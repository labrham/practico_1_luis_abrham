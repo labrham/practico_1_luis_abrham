{
 "cells": [
  {
   "cell_type": "markdown",
   "metadata": {},
   "source": [
    "<center>\n",
    "<h4>Universidad Nacional de Córdoba - Facultad de Matemática, Astronomía, Física y Computación</h4>\n",
    "<h3>Diplomatura en Ciencia de Datos, Aprendizaje Automático y sus Aplicaciones</h3>\n",
    "</center>"
   ]
  },
  {
   "cell_type": "markdown",
   "metadata": {},
   "source": [
    "<h1> Práctico I - Estadística </h1>\n",
    "<h3> Análisis y Visualización de Datos - 2019 </h3>\n",
    "\n",
    "Durante este práctico vamos a trabajar sobre el dataset [Human Freedom Index 2018](https://www.cato.org/human-freedom-index-new) de el instituto Cato. Este índice mide en detalle lo que entendemos como libertad, utilizando 79 indicadores de libertad personal y económica en distintos aspectos, hasta obtener un hermoso numerito del 1 al 10. Usaremos una [versión ya limpia del dataset](https://www.kaggle.com/gsutters/the-human-freedom-index/home) que pueden descargar desde Kaggle.\n",
    "\n",
    "Las variables más importantes sobre las que trabaja el dataset son:\n",
    "\n",
    "* Rule of Law\n",
    "* Security and Safety\n",
    "* Movement\n",
    "* Religion\n",
    "* Association, Assembly, and Civil Society\n",
    "* Expression and Information\n",
    "* Identity and Relationships\n",
    "* Size of Government\n",
    "* Legal System and Property Rights\n",
    "* Access to Sound Money\n",
    "* Freedom to Trade Internationally\n",
    "* Regulation of Credit, Labor, and Business\n",
    "\n",
    "Nosotros centrarermos nuestro análisis en variables relacionadas a *Identity and Relationships* en paises de Latinoamérica, y los compararemos con las estadísticas globales. La pregunta a responder es simple: **¿Qué niveles de libertad se viven en Latinoamérica, especificamente en cuanto libertades de indentidad?**. Sin embargo, para hacer un análisis de los datos tenemos que platear también estas sub preguntas:\n",
    "\n",
    "1. ¿Qué significa tener un puntaje de 4.5? Hay que poner los puntajes de la región en contexto con los datos del resto del mundo.\n",
    "2. ¿Cuál es la tendencia a lo largo de los años? ¿Estamos mejorando, empeorando?\n",
    "3. En este estudio, la libertad se mide con dos estimadores principales: *hf_score* que hace referencia a Human Freedom, y *ef_score* que hace referencia a Economic Freedom. Estos dos estimadores, ¿se relacionan de la misma manera con la libertad de identidad?\n",
    "\n",
    "Inicialmente, en toda exploración de datos tenemos muy poca información a priori sobre el significado de los datos y tenemos que empezar por comprenderlos. Les proponemos los siguientes ejercicios como guía para comenzar esta exploración."
   ]
  },
  {
   "cell_type": "code",
   "execution_count": 1,
   "metadata": {},
   "outputs": [],
   "source": [
    "import matplotlib.pyplot as plt\n",
    "import numpy\n",
    "import pandas\n",
    "import seaborn"
   ]
  },
  {
   "cell_type": "code",
   "execution_count": 2,
   "metadata": {},
   "outputs": [
    {
     "data": {
      "text/plain": [
       "'0.9.0'"
      ]
     },
     "execution_count": 2,
     "metadata": {},
     "output_type": "execute_result"
    }
   ],
   "source": [
    "seaborn.__version__"
   ]
  },
  {
   "cell_type": "code",
   "execution_count": 3,
   "metadata": {},
   "outputs": [
    {
     "data": {
      "text/plain": [
       "(1458, 123)"
      ]
     },
     "execution_count": 3,
     "metadata": {},
     "output_type": "execute_result"
    }
   ],
   "source": [
    "dataset = pandas.read_csv('C:/Users/nbcorar71/Documents/GitHub/diplodatos_famaf_2019/datasets/hfi_cc_2018.csv')\n",
    "dataset.shape"
   ]
  },
  {
   "cell_type": "code",
   "execution_count": 4,
   "metadata": {},
   "outputs": [
    {
     "data": {
      "text/plain": [
       "Index(['year', 'ISO_code', 'countries', 'region', 'pf_rol_procedural',\n",
       "       'pf_rol_civil', 'pf_rol_criminal', 'pf_rol', 'pf_ss_homicide',\n",
       "       'pf_ss_disappearances_disap',\n",
       "       ...\n",
       "       'ef_regulation_business_bribes', 'ef_regulation_business_licensing',\n",
       "       'ef_regulation_business_compliance', 'ef_regulation_business',\n",
       "       'ef_regulation', 'ef_score', 'ef_rank', 'hf_score', 'hf_rank',\n",
       "       'hf_quartile'],\n",
       "      dtype='object', length=123)"
      ]
     },
     "execution_count": 4,
     "metadata": {},
     "output_type": "execute_result"
    }
   ],
   "source": [
    "dataset.columns\n",
    "# Way too many columns!"
   ]
  },
  {
   "cell_type": "code",
   "execution_count": 5,
   "metadata": {},
   "outputs": [
    {
     "data": {
      "text/html": [
       "<div>\n",
       "<style scoped>\n",
       "    .dataframe tbody tr th:only-of-type {\n",
       "        vertical-align: middle;\n",
       "    }\n",
       "\n",
       "    .dataframe tbody tr th {\n",
       "        vertical-align: top;\n",
       "    }\n",
       "\n",
       "    .dataframe thead th {\n",
       "        text-align: right;\n",
       "    }\n",
       "</style>\n",
       "<table border=\"1\" class=\"dataframe\">\n",
       "  <thead>\n",
       "    <tr style=\"text-align: right;\">\n",
       "      <th></th>\n",
       "      <th>year</th>\n",
       "      <th>ISO_code</th>\n",
       "      <th>countries</th>\n",
       "      <th>region</th>\n",
       "      <th>pf_rol_procedural</th>\n",
       "      <th>pf_rol_civil</th>\n",
       "      <th>pf_rol_criminal</th>\n",
       "      <th>pf_rol</th>\n",
       "      <th>pf_ss_homicide</th>\n",
       "      <th>pf_ss_disappearances_disap</th>\n",
       "      <th>...</th>\n",
       "      <th>ef_regulation_business_bribes</th>\n",
       "      <th>ef_regulation_business_licensing</th>\n",
       "      <th>ef_regulation_business_compliance</th>\n",
       "      <th>ef_regulation_business</th>\n",
       "      <th>ef_regulation</th>\n",
       "      <th>ef_score</th>\n",
       "      <th>ef_rank</th>\n",
       "      <th>hf_score</th>\n",
       "      <th>hf_rank</th>\n",
       "      <th>hf_quartile</th>\n",
       "    </tr>\n",
       "  </thead>\n",
       "  <tbody>\n",
       "    <tr>\n",
       "      <th>0</th>\n",
       "      <td>2016</td>\n",
       "      <td>ALB</td>\n",
       "      <td>Albania</td>\n",
       "      <td>Eastern Europe</td>\n",
       "      <td>6.661503</td>\n",
       "      <td>4.547244</td>\n",
       "      <td>4.666508</td>\n",
       "      <td>5.291752</td>\n",
       "      <td>8.920429</td>\n",
       "      <td>10.0</td>\n",
       "      <td>...</td>\n",
       "      <td>4.050196</td>\n",
       "      <td>7.324582</td>\n",
       "      <td>7.074366</td>\n",
       "      <td>6.705863</td>\n",
       "      <td>6.906901</td>\n",
       "      <td>7.54</td>\n",
       "      <td>34.0</td>\n",
       "      <td>7.568140</td>\n",
       "      <td>48.0</td>\n",
       "      <td>2.0</td>\n",
       "    </tr>\n",
       "    <tr>\n",
       "      <th>1</th>\n",
       "      <td>2016</td>\n",
       "      <td>DZA</td>\n",
       "      <td>Algeria</td>\n",
       "      <td>Middle East &amp; North Africa</td>\n",
       "      <td>NaN</td>\n",
       "      <td>NaN</td>\n",
       "      <td>NaN</td>\n",
       "      <td>3.819566</td>\n",
       "      <td>9.456254</td>\n",
       "      <td>10.0</td>\n",
       "      <td>...</td>\n",
       "      <td>3.765515</td>\n",
       "      <td>8.523503</td>\n",
       "      <td>7.029528</td>\n",
       "      <td>5.676956</td>\n",
       "      <td>5.268992</td>\n",
       "      <td>4.99</td>\n",
       "      <td>159.0</td>\n",
       "      <td>5.135886</td>\n",
       "      <td>155.0</td>\n",
       "      <td>4.0</td>\n",
       "    </tr>\n",
       "  </tbody>\n",
       "</table>\n",
       "<p>2 rows × 123 columns</p>\n",
       "</div>"
      ],
      "text/plain": [
       "   year ISO_code countries                      region  pf_rol_procedural  \\\n",
       "0  2016      ALB   Albania              Eastern Europe           6.661503   \n",
       "1  2016      DZA   Algeria  Middle East & North Africa                NaN   \n",
       "\n",
       "   pf_rol_civil  pf_rol_criminal    pf_rol  pf_ss_homicide  \\\n",
       "0      4.547244         4.666508  5.291752        8.920429   \n",
       "1           NaN              NaN  3.819566        9.456254   \n",
       "\n",
       "   pf_ss_disappearances_disap  ...  ef_regulation_business_bribes  \\\n",
       "0                        10.0  ...                       4.050196   \n",
       "1                        10.0  ...                       3.765515   \n",
       "\n",
       "   ef_regulation_business_licensing  ef_regulation_business_compliance  \\\n",
       "0                          7.324582                           7.074366   \n",
       "1                          8.523503                           7.029528   \n",
       "\n",
       "   ef_regulation_business  ef_regulation  ef_score  ef_rank  hf_score  \\\n",
       "0                6.705863       6.906901      7.54     34.0  7.568140   \n",
       "1                5.676956       5.268992      4.99    159.0  5.135886   \n",
       "\n",
       "   hf_rank  hf_quartile  \n",
       "0     48.0          2.0  \n",
       "1    155.0          4.0  \n",
       "\n",
       "[2 rows x 123 columns]"
      ]
     },
     "execution_count": 5,
     "metadata": {},
     "output_type": "execute_result"
    }
   ],
   "source": [
    "dataset[:2]"
   ]
  },
  {
   "cell_type": "markdown",
   "metadata": {},
   "source": [
    "Por suerte las columnas tienen un prefijo que nos ayuda a identificar a qué sección pertenecen. Nos quedamos sólo con las que comienzan con *pf_indentity*, junto con otras columnas más generales"
   ]
  },
  {
   "cell_type": "code",
   "execution_count": 6,
   "metadata": {},
   "outputs": [],
   "source": [
    "important_cols = ['year', 'ISO_code', 'countries', 'region']\n",
    "\n",
    "important_cols += [col for col in dataset.columns if 'pf_identity' in col]\n",
    "\n",
    "important_cols += [\n",
    "    'ef_score', # Economic Freedom (score)\n",
    "    'ef_rank', # Economic Freedom (rank)\n",
    "    'hf_score', # Human Freedom (score)\n",
    "    'hf_rank', # Human Freedom (rank)\n",
    "]\n"
   ]
  },
  {
   "cell_type": "markdown",
   "metadata": {},
   "source": [
    "## 1. Estadísticos descriptivos\n",
    "\n",
    "  1. Para comenzar con un pantallazo de los datos, calcular el rango de las variables.\n",
    "  2. Obtener media, mediana y desviación estándar de las variables *pf_identity* y *hf_score* en el mundo y compararla con la de Latinoamérica y el caribe. ¿Tiene sentido calcular la moda? \n",
    "  3. ¿Son todos los valores de *pf_identity*  y *hf_score* directamente comparables? ¿Qué otra variable podría influenciarlos?\n",
    "  4. ¿Cómo pueden sanearse los valores faltantes?\n",
    "  5. ¿Encuentra outliers en estas dos variables? ¿Qué método utiliza para detectarlos? ¿Los outliers, son globales o por grupo? ¿Los eliminaría del conjunto de datos?\n",
    "  \n",
    "  "
   ]
  },
  {
   "cell_type": "code",
   "execution_count": 7,
   "metadata": {},
   "outputs": [
    {
     "data": {
      "text/html": [
       "<div>\n",
       "<style scoped>\n",
       "    .dataframe tbody tr th:only-of-type {\n",
       "        vertical-align: middle;\n",
       "    }\n",
       "\n",
       "    .dataframe tbody tr th {\n",
       "        vertical-align: top;\n",
       "    }\n",
       "\n",
       "    .dataframe thead th {\n",
       "        text-align: right;\n",
       "    }\n",
       "</style>\n",
       "<table border=\"1\" class=\"dataframe\">\n",
       "  <thead>\n",
       "    <tr style=\"text-align: right;\">\n",
       "      <th></th>\n",
       "      <th>cant_reg</th>\n",
       "      <th>valores_unicos</th>\n",
       "      <th>min</th>\n",
       "      <th>max</th>\n",
       "      <th>rango</th>\n",
       "    </tr>\n",
       "  </thead>\n",
       "  <tbody>\n",
       "    <tr>\n",
       "      <th>year</th>\n",
       "      <td>1458.0</td>\n",
       "      <td>9.0</td>\n",
       "      <td>2008.000000</td>\n",
       "      <td>2016.000000</td>\n",
       "      <td>8.000000</td>\n",
       "    </tr>\n",
       "    <tr>\n",
       "      <th>pf_identity_legal</th>\n",
       "      <td>205.0</td>\n",
       "      <td>3.0</td>\n",
       "      <td>0.000000</td>\n",
       "      <td>10.000000</td>\n",
       "      <td>10.000000</td>\n",
       "    </tr>\n",
       "    <tr>\n",
       "      <th>pf_identity_parental_marriage</th>\n",
       "      <td>923.0</td>\n",
       "      <td>3.0</td>\n",
       "      <td>0.000000</td>\n",
       "      <td>10.000000</td>\n",
       "      <td>10.000000</td>\n",
       "    </tr>\n",
       "    <tr>\n",
       "      <th>pf_identity_parental_divorce</th>\n",
       "      <td>923.0</td>\n",
       "      <td>3.0</td>\n",
       "      <td>0.000000</td>\n",
       "      <td>10.000000</td>\n",
       "      <td>10.000000</td>\n",
       "    </tr>\n",
       "    <tr>\n",
       "      <th>pf_identity_parental</th>\n",
       "      <td>1358.0</td>\n",
       "      <td>5.0</td>\n",
       "      <td>0.000000</td>\n",
       "      <td>10.000000</td>\n",
       "      <td>10.000000</td>\n",
       "    </tr>\n",
       "    <tr>\n",
       "      <th>pf_identity_sex_male</th>\n",
       "      <td>1375.0</td>\n",
       "      <td>3.0</td>\n",
       "      <td>0.000000</td>\n",
       "      <td>10.000000</td>\n",
       "      <td>10.000000</td>\n",
       "    </tr>\n",
       "    <tr>\n",
       "      <th>pf_identity_sex_female</th>\n",
       "      <td>1378.0</td>\n",
       "      <td>3.0</td>\n",
       "      <td>0.000000</td>\n",
       "      <td>10.000000</td>\n",
       "      <td>10.000000</td>\n",
       "    </tr>\n",
       "    <tr>\n",
       "      <th>pf_identity_sex</th>\n",
       "      <td>1378.0</td>\n",
       "      <td>3.0</td>\n",
       "      <td>0.000000</td>\n",
       "      <td>10.000000</td>\n",
       "      <td>10.000000</td>\n",
       "    </tr>\n",
       "    <tr>\n",
       "      <th>pf_identity_divorce</th>\n",
       "      <td>585.0</td>\n",
       "      <td>3.0</td>\n",
       "      <td>0.000000</td>\n",
       "      <td>10.000000</td>\n",
       "      <td>10.000000</td>\n",
       "    </tr>\n",
       "    <tr>\n",
       "      <th>pf_identity</th>\n",
       "      <td>1378.0</td>\n",
       "      <td>30.0</td>\n",
       "      <td>0.000000</td>\n",
       "      <td>10.000000</td>\n",
       "      <td>10.000000</td>\n",
       "    </tr>\n",
       "    <tr>\n",
       "      <th>ef_score</th>\n",
       "      <td>1378.0</td>\n",
       "      <td>353.0</td>\n",
       "      <td>2.880000</td>\n",
       "      <td>9.190000</td>\n",
       "      <td>6.310000</td>\n",
       "    </tr>\n",
       "    <tr>\n",
       "      <th>ef_rank</th>\n",
       "      <td>1378.0</td>\n",
       "      <td>162.0</td>\n",
       "      <td>1.000000</td>\n",
       "      <td>162.000000</td>\n",
       "      <td>161.000000</td>\n",
       "    </tr>\n",
       "    <tr>\n",
       "      <th>hf_score</th>\n",
       "      <td>1378.0</td>\n",
       "      <td>1378.0</td>\n",
       "      <td>3.765827</td>\n",
       "      <td>9.126313</td>\n",
       "      <td>5.360486</td>\n",
       "    </tr>\n",
       "    <tr>\n",
       "      <th>hf_rank</th>\n",
       "      <td>1378.0</td>\n",
       "      <td>162.0</td>\n",
       "      <td>1.000000</td>\n",
       "      <td>162.000000</td>\n",
       "      <td>161.000000</td>\n",
       "    </tr>\n",
       "  </tbody>\n",
       "</table>\n",
       "</div>"
      ],
      "text/plain": [
       "                               cant_reg  valores_unicos          min  \\\n",
       "year                             1458.0             9.0  2008.000000   \n",
       "pf_identity_legal                 205.0             3.0     0.000000   \n",
       "pf_identity_parental_marriage     923.0             3.0     0.000000   \n",
       "pf_identity_parental_divorce      923.0             3.0     0.000000   \n",
       "pf_identity_parental             1358.0             5.0     0.000000   \n",
       "pf_identity_sex_male             1375.0             3.0     0.000000   \n",
       "pf_identity_sex_female           1378.0             3.0     0.000000   \n",
       "pf_identity_sex                  1378.0             3.0     0.000000   \n",
       "pf_identity_divorce               585.0             3.0     0.000000   \n",
       "pf_identity                      1378.0            30.0     0.000000   \n",
       "ef_score                         1378.0           353.0     2.880000   \n",
       "ef_rank                          1378.0           162.0     1.000000   \n",
       "hf_score                         1378.0          1378.0     3.765827   \n",
       "hf_rank                          1378.0           162.0     1.000000   \n",
       "\n",
       "                                       max       rango  \n",
       "year                           2016.000000    8.000000  \n",
       "pf_identity_legal                10.000000   10.000000  \n",
       "pf_identity_parental_marriage    10.000000   10.000000  \n",
       "pf_identity_parental_divorce     10.000000   10.000000  \n",
       "pf_identity_parental             10.000000   10.000000  \n",
       "pf_identity_sex_male             10.000000   10.000000  \n",
       "pf_identity_sex_female           10.000000   10.000000  \n",
       "pf_identity_sex                  10.000000   10.000000  \n",
       "pf_identity_divorce              10.000000   10.000000  \n",
       "pf_identity                      10.000000   10.000000  \n",
       "ef_score                          9.190000    6.310000  \n",
       "ef_rank                         162.000000  161.000000  \n",
       "hf_score                          9.126313    5.360486  \n",
       "hf_rank                         162.000000  161.000000  "
      ]
     },
     "execution_count": 7,
     "metadata": {},
     "output_type": "execute_result"
    }
   ],
   "source": [
    "#--------------------------------------------------------------------------------------#\n",
    "#1- Para comenzar con un pantallazo de los datos, calcular el rango de las variables.  #\n",
    "#--------------------------------------------------------------------------------------#\n",
    "#Agrupo solo las variables Numericas para poder calcular el rango\n",
    "range_cols = ['year', \n",
    " 'pf_identity_legal',\n",
    " 'pf_identity_parental_marriage',\n",
    " 'pf_identity_parental_divorce',\n",
    " 'pf_identity_parental',\n",
    " 'pf_identity_sex_male',\n",
    " 'pf_identity_sex_female',\n",
    " 'pf_identity_sex',\n",
    " 'pf_identity_divorce',\n",
    " 'pf_identity',\n",
    " 'ef_score',\n",
    " 'ef_rank',\n",
    " 'hf_score',\n",
    " 'hf_rank']\n",
    "\n",
    "\n",
    "# mostramos cantida de registros, cantidad de valores unicos y rangos para cada variable\n",
    "descript_rango = pandas.DataFrame([dataset[range_cols].count(),dataset[range_cols].nunique(),dataset[range_cols].min(), dataset[range_cols].max(), dataset[range_cols].max() - dataset[range_cols].min()], \n",
    "                     index=['cant_reg','valores_unicos','min','max','rango']).transpose()\n",
    "descript_rango"
   ]
  },
  {
   "cell_type": "markdown",
   "metadata": {},
   "source": [
    "1.1) Mostramos la cantidad de registros no nulos [cant_reg], la cantidad de valores distintos por columnas [valores_unicos],  los valores minimos [min] y  vzlores maximos [max] y los rangos de cada una de las variables [rango]"
   ]
  },
  {
   "cell_type": "code",
   "execution_count": 20,
   "metadata": {},
   "outputs": [
    {
     "data": {
      "text/html": [
       "<div>\n",
       "<style scoped>\n",
       "    .dataframe tbody tr th:only-of-type {\n",
       "        vertical-align: middle;\n",
       "    }\n",
       "\n",
       "    .dataframe tbody tr th {\n",
       "        vertical-align: top;\n",
       "    }\n",
       "\n",
       "    .dataframe thead th {\n",
       "        text-align: right;\n",
       "    }\n",
       "</style>\n",
       "<table border=\"1\" class=\"dataframe\">\n",
       "  <thead>\n",
       "    <tr style=\"text-align: right;\">\n",
       "      <th></th>\n",
       "      <th>mediana_rest_m</th>\n",
       "      <th>mediana_la</th>\n",
       "      <th>media_rest_m</th>\n",
       "      <th>media_la</th>\n",
       "      <th>dev_std_rest_m</th>\n",
       "      <th>dev_std_rest_la</th>\n",
       "    </tr>\n",
       "  </thead>\n",
       "  <tbody>\n",
       "    <tr>\n",
       "      <th>pf_identity</th>\n",
       "      <td>8.333333</td>\n",
       "      <td>10.000000</td>\n",
       "      <td>7.044503</td>\n",
       "      <td>8.765086</td>\n",
       "      <td>3.303771</td>\n",
       "      <td>1.711732</td>\n",
       "    </tr>\n",
       "    <tr>\n",
       "      <th>hf_score</th>\n",
       "      <td>6.867191</td>\n",
       "      <td>7.028045</td>\n",
       "      <td>6.982403</td>\n",
       "      <td>7.047982</td>\n",
       "      <td>1.090861</td>\n",
       "      <td>0.608904</td>\n",
       "    </tr>\n",
       "  </tbody>\n",
       "</table>\n",
       "</div>"
      ],
      "text/plain": [
       "             mediana_rest_m  mediana_la  media_rest_m  media_la  \\\n",
       "pf_identity        8.333333   10.000000      7.044503  8.765086   \n",
       "hf_score           6.867191    7.028045      6.982403  7.047982   \n",
       "\n",
       "             dev_std_rest_m  dev_std_rest_la  \n",
       "pf_identity        3.303771         1.711732  \n",
       "hf_score           1.090861         0.608904  "
      ]
     },
     "execution_count": 20,
     "metadata": {},
     "output_type": "execute_result"
    }
   ],
   "source": [
    "#----------------------------------------------------------------------------------------------------------#\n",
    "#  2- Obtener media, mediana y desviación estándar de las variables pf_identity y hf_score en el mundo     #\n",
    "#  y compararla con la de Latinoamérica y el caribe. ¿Tiene sentido calcular la moda?                      #\n",
    "#----------------------------------------------------------------------------------------------------------#\n",
    "datos_latinoamerica = dataset[dataset['region'] == 'Latin America & the Caribbean']\n",
    "datos_resto_mundo = dataset[dataset['region'] != 'Latin America & the Caribbean']\n",
    "\n",
    "med_dev_std_cols = [ 'pf_identity', 'hf_score']\n",
    "descript_med_dev_std = pandas.DataFrame([datos_resto_mundo[med_dev_std_cols].median(),\n",
    "                                         datos_latinoamerica[med_dev_std_cols].median(),\n",
    "                                         datos_resto_mundo[med_dev_std_cols].mean(),\n",
    "                                         datos_latinoamerica[med_dev_std_cols].mean(),\n",
    "                                         datos_resto_mundo[med_dev_std_cols].std(),\n",
    "                                         datos_latinoamerica[med_dev_std_cols].std()                                         \n",
    "                                        ], \n",
    "                     index=['mediana_rest_m','mediana_la','media_rest_m','media_la','dev_std_rest_m','dev_std_rest_la']).transpose()\n",
    "descript_med_dev_std"
   ]
  },
  {
   "cell_type": "markdown",
   "metadata": {},
   "source": [
    "1.2) Para la variable pf_identity podriamos calcularle la moda, pero para el caso de la variable hf_score no tiene sentido calcular la moda ya que son valores unicos."
   ]
  },
  {
   "cell_type": "markdown",
   "metadata": {},
   "source": [
    "1.3) Se me complica decir correctamente si las variables *pf_identity*  y *hf_score* son directamente comparables entiendo que no deberian compararse ya que la variable pf_identity se utiliza para el calculo de la hf_score."
   ]
  },
  {
   "cell_type": "markdown",
   "metadata": {},
   "source": [
    "1.4)¿Cómo pueden sanearse los valores faltantes? para sanearse los valores faltantes podemos utilizar la funcion dropna(), pero esta funcion estaria eliminando los registros que sean nulos tambien podemos imputar los valores numericos por la media o la mediana, en principio cuando analizamos la variable deberiamos descartar aquellas variables que posean mas del 20% de valores nulos."
   ]
  },
  {
   "cell_type": "markdown",
   "metadata": {},
   "source": [
    " 5. ¿Encuentra outliers en estas dos variables? ¿Qué método utiliza para detectarlos? ¿Los outliers, son globales o por grupo? ¿Los eliminaría del conjunto de datos?\n",
    "  "
   ]
  },
  {
   "cell_type": "markdown",
   "metadata": {},
   "source": [
    "## 2. Agregación de datos\n",
    "\n",
    "1. Grafiquen la media de la variable *pf_identity* y *hf_score* a través de los años.\n",
    "2. Realicen los mismos gráficos, pero separando por regiones (Cada variable en un gráfico distinto, sino no se ve nada). ¿La tendencia observada, es la misma que si no dividimos por regiones?\n",
    "3. Si lo consideran necesario, grafiquen algunos países de Latinoamerica para tratar de explicar la tendencia de la variable *pf_identity* en la región. ¿Cómo seleccionarion los países relevantes a esa tendencia?\n",
    "\n",
    "Hint: hay un gráfico de seaborn que hace todo por vos!\n",
    "\n",
    "Sólo por curiosidad, graficar la tendencia de *hf_score* y *ef_score* a través de los años. ¿Tienen alguna hipótesis para este comportamiento?"
   ]
  },
  {
   "cell_type": "markdown",
   "metadata": {},
   "source": [
    "## 2. Distribuciones\n",
    "  1. Graficar en un mismo histograma la distribución de la variable *pf_identity* en global, y en Latinoamérica y el caribe. Repetir para la variable *hf_score*. ¿Visualmente, a qué tipo de distribución corresponde cada variable? ¿Es correcto utilizar todos los registros para esas zonas en estos gráficos?\n",
    "  2. Realizar una prueba de Kolmogorov-Smirnof para comprobar analíticamente si estas variables responden la distribución propuesta en el ejercicio anterior. Hint: podés usar https://docs.scipy.org/doc/scipy-0.14.0/reference/generated/scipy.stats.kstest.html, pero hay que tener en cuenta que si la distribución es \"norm\", entonces va a comparar los datos con una distribución normal con media 0 y desviación estándar 1. Se puede utilizar la distribución sobre todos los datos o sólo sobre Latinoamérica.\n",
    "  3. Realizar un gráfico QQ de las mismas distribuciones. Se puede utilizar a,bas distribuciones sobre todos los datos o sólo sobre Latinoamérica, pero no cruzadas.\n",
    "  4. Medir la asimetría (skew) y curtosis de las mismas distribuciones con las que realizó el gráfico anterior. ¿Cómo se relacionan estos estadísticos con la forma del gráfico QQ obtenido previamente? ¿El gráfico QQ provee más información que no esté presente en estos estadísticos?"
   ]
  },
  {
   "cell_type": "markdown",
   "metadata": {},
   "source": [
    "## 3. Correlaciones\n",
    "\n",
    "En este ejercicio queremos responder a las preguntas\n",
    "\n",
    "* Las libertades sociales y económicas, ¿van siempre de la mano?\n",
    "* ¿Cómo se relacionan ambas con las libertades individuales y respectivas a las relaciones personales?\n",
    "\n",
    "Para ello, analizaremos las correlaciones entre las variables pf_identity, hf_score y ef_score. \n",
    "\n",
    "Como pf_indentity contribuye al cálculo de hf_score y ef_score, esperamos hallar algún grado de correlación. Sin embargo, queremos medir qué tanta correlación. \n",
    "\n",
    "1. ¿Qué conclusiones puede sacar de un gráfico pairplot de estas tres variables? ¿Es adecuado para los valores de pf_identity? ¿Por qué?\n",
    "2. Graficar la correlación entre pf_identity y hf_score; y entre pf_identity y ef_score. Analizar el resultado, ¿se pueden sacar conclusiones? Tengan en cuenta que como pf_identity es el resultado de un promedio, sólo toma algunos valores. Es, en efecto, discreta.\n",
    "3. Calcular algún coeficiente de correlación adecuado entre los dos pares de variables, dependiendo de la cantidad de datos, el tipo de datos y la distribución de los mismo. Algunas opciones son: coeficiente de pearson, coeficiente de spearman, coeficientes de tau y de kendall. Interpretar los resultados y justificar si las variables están correlacionadas o no. \n",
    "4. [Opcional] Analizar la correlación entre la region y el hf_score (y/o el ef_score); y entre la region y el pf_identity. Considerar que como la variable *region* es ordinal, debe utilizarse algún tipo de test. Explicar cuáles son los requisitos necesarios para la aplicación de ese test. (Si no se cumplieran, se pueden agregar algunos datos para generar más registros)\n"
   ]
  },
  {
   "cell_type": "code",
   "execution_count": null,
   "metadata": {},
   "outputs": [],
   "source": []
  }
 ],
 "metadata": {
  "kernelspec": {
   "display_name": "Python 3",
   "language": "python",
   "name": "python3"
  },
  "language_info": {
   "codemirror_mode": {
    "name": "ipython",
    "version": 3
   },
   "file_extension": ".py",
   "mimetype": "text/x-python",
   "name": "python",
   "nbconvert_exporter": "python",
   "pygments_lexer": "ipython3",
   "version": "3.6.8"
  }
 },
 "nbformat": 4,
 "nbformat_minor": 2
}
